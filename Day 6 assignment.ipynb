{
 "cells": [
  {
   "cell_type": "code",
   "execution_count": null,
   "metadata": {},
   "outputs": [],
   "source": [
    "'''Question 1:\n",
    "Assuming that we have some email addresses in the \"username@companyname.com\" format, please write program\n",
    "to print the company name of a given email address. Both user names and company names are composed of letters\n",
    "only.\n",
    "Input Format:\n",
    "The first line of the input contains an email address.\n",
    "Output Format:\n",
    "Print the company name in single line.\n",
    "Example;\n",
    "Input:\n",
    "john@google.com\n",
    "Output:\n",
    "google\n",
    "'''\n",
    "email_id =  input(\"enter email id -\")\n",
    "ind = email_id.find(\"@\")\n",
    "dot = email_id.find(\".\")\n",
    "print(email_id[ind+1:dot])"
   ]
  },
  {
   "cell_type": "code",
   "execution_count": 3,
   "metadata": {},
   "outputs": [
    {
     "name": "stdout",
     "output_type": "stream",
     "text": [
      "enter csw -vasim, altu  ,   amrin, , bal\n",
      "['', 'altu', 'amrin', 'bal', 'vasim']\n",
      ", altu, amrin, bal, vasim\n"
     ]
    }
   ],
   "source": [
    "'''Question 2:\n",
    "Write a program that accepts a comma-separated sequence of words as input and prints the words in a comma\n",
    "separated sequence after sorting them alphabetically.\n",
    "Input Format:\n",
    "The first line of input contains words separated by the comma.\n",
    "Output Format:\n",
    "Print the sorted words separated by the comma.\n",
    "Example:\n",
    "Input:\n",
    "without,hello,bag,world\n",
    "Output:\n",
    "bag,hello,without,world'''\n",
    "str1 = input(\"enter csw -\")\n",
    "b = [i.strip() for i in str1.split(\",\")]\n",
    "b.sort()\n",
    "print(b)\n",
    "print(\", \".join(b))"
   ]
  },
  {
   "cell_type": "code",
   "execution_count": 1,
   "metadata": {},
   "outputs": [
    {
     "name": "stdout",
     "output_type": "stream",
     "text": [
      "enter here-imran , altu , vasim ,altu\n",
      "{'vasim', 'altu', 'imran'}\n"
     ]
    }
   ],
   "source": [
    "'''Question 3:\n",
    "Create your own Jupyter Notebook for Sets.\n",
    "Reference link: https://www.w3schools.com/python/python_sets.asp'''\n",
    "a =input(\"enter here-\")\n",
    "b = a.split(\",\")\n",
    "c = [i.strip() for i in b]\n",
    "d = set(c)\n",
    "print(d)"
   ]
  },
  {
   "cell_type": "code",
   "execution_count": 6,
   "metadata": {
    "scrolled": true
   },
   "outputs": [
    {
     "name": "stdout",
     "output_type": "stream",
     "text": [
      "enter number with space in between -2 4 6 7 8\n",
      "[2, 4, 6, 7, 8]\n",
      "3\n",
      "5\n"
     ]
    }
   ],
   "source": [
    "'''Question 4:\n",
    "Given a list of n-1 numbers ranging from 1 to n, your task is to find the missing number. There are no duplicates.\n",
    "Input Format:\n",
    "The first line contains n-1 numbers with each number separated by a space.\n",
    "Output Format:\n",
    "Print the missing number\n",
    "Example:\n",
    "Input:1 2 4 6 3 7 8\n",
    "Output:5\n",
    "Explanation:\n",
    "In the above list of numbers 5 is missing and hence 5 is the input'''\n",
    "a= input(\"enter number with space in between -\")\n",
    "b = a.split(\" \")\n",
    "c =[]\n",
    "for j in b:\n",
    "    c.append(int(j))\n",
    "print(c)\n",
    "d = range(min(c),max(c)+1)\n",
    "for i in d:\n",
    "    if i not in c:\n",
    "        print(i)"
   ]
  },
  {
   "cell_type": "code",
   "execution_count": 14,
   "metadata": {},
   "outputs": [
    {
     "name": "stdout",
     "output_type": "stream",
     "text": [
      "enter - 2 3 4 5 7 34 5\n",
      "{2, 3, 4, 5, 34, 7}\n"
     ]
    }
   ],
   "source": [
    "'''Question 5:\n",
    "With a given list L, write a program to print this list L after removing all duplicate values with original order reserved.\n",
    "Example:\n",
    "If the input list is\n",
    "12 24 35 24 88 120 155 88 120 155\n",
    "Then the output should be\n",
    "12 24 35 88 120 155\n",
    "Explanation:\n",
    "Third, seventh and ninth element of the list L has been removed because it was already present.\n",
    "Input Format:\n",
    "In one line take the elements of the list L with each element separated by a space.\n",
    "Output Format:\n",
    "Print the elements of the modified list in one line with each element separated by a space.\n",
    "Example:\n",
    "Input: 12 24 35 24\n",
    "Output:\n",
    "12 24 35'''\n",
    "\n",
    "n = input(\"enter - \")\n",
    "a = n.split(\" \")\n",
    "b = map(int,a)\n",
    "# print(b)\n",
    "# c = list(b)\n",
    "\n",
    "d = set(b)\n",
    "print(d)"
   ]
  }
 ],
 "metadata": {
  "kernelspec": {
   "display_name": "Python 3",
   "language": "python",
   "name": "python3"
  },
  "language_info": {
   "codemirror_mode": {
    "name": "ipython",
    "version": 3
   },
   "file_extension": ".py",
   "mimetype": "text/x-python",
   "name": "python",
   "nbconvert_exporter": "python",
   "pygments_lexer": "ipython3",
   "version": "3.7.6"
  }
 },
 "nbformat": 4,
 "nbformat_minor": 4
}
