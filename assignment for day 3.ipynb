{
 "cells": [
  {
   "cell_type": "code",
   "execution_count": 1,
   "metadata": {},
   "outputs": [
    {
     "name": "stdout",
     "output_type": "stream",
     "text": [
      "(5+5j)\n"
     ]
    }
   ],
   "source": [
    "# question 1 .Write a program to subtract two complex numbers in Python.\n",
    "\n",
    "a = 2 + 3j\n",
    "b = 3 + 2j\n",
    "c = a + b \n",
    "print(c)"
   ]
  },
  {
   "cell_type": "code",
   "execution_count": 3,
   "metadata": {},
   "outputs": [
    {
     "name": "stdout",
     "output_type": "stream",
     "text": [
      "2.8284271247461903\n"
     ]
    }
   ],
   "source": [
    "#question 2 .Write a program to find the fourth root of a number.\n",
    "\n",
    "a = 64\n",
    "b = a ** 0.25 # a **(1/root to be know of)\n",
    "print(b)\n"
   ]
  },
  {
   "cell_type": "code",
   "execution_count": 14,
   "metadata": {},
   "outputs": [
    {
     "name": "stdout",
     "output_type": "stream",
     "text": [
      "before swaping a = 3 and b = 4\n",
      "after swaping a = 4 and b = 3\n"
     ]
    }
   ],
   "source": [
    "#question 3.Write a program to swap two numbers in Python with the help of a temporary variable.\n",
    "a = 3 \n",
    "b = 4 \n",
    "print(f\"before swaping a = {a} and b = {b}\")\n",
    "c_temp=a\n",
    "a = b\n",
    "b =c_temp\n",
    "print(f\"after swaping a = {a} and b = {b}\")\n",
    "\n",
    "\n",
    "\n",
    "\n",
    "\n",
    "\n"
   ]
  },
  {
   "cell_type": "code",
   "execution_count": 13,
   "metadata": {},
   "outputs": [
    {
     "name": "stdout",
     "output_type": "stream",
     "text": [
      "before swaping a =4 and b =3\n",
      "after swaping a = 3 and b = 4\n"
     ]
    }
   ],
   "source": [
    "#question 4.Write a program to swap two numbers in Python without using a temporary variable.\n",
    "a = 4\n",
    "b = 3\n",
    "\n",
    "print(f\"before swaping a = {a} and b = {b}\")\n",
    "a,b = b,a\n",
    "print(f\"after swaping a = {a} and b = {b}\")\n",
    "\n"
   ]
  },
  {
   "cell_type": "code",
   "execution_count": 5,
   "metadata": {},
   "outputs": [
    {
     "name": "stdout",
     "output_type": "stream",
     "text": [
      "enter temp 98\n",
      "36.666666666666664\n",
      "309.81666666666666\n"
     ]
    }
   ],
   "source": [
    "#question 5.Write a program to convert fahrenheit to kelvin and celsius both.\n",
    "\n",
    "ferenite_temp = int(input(\"enter temp \"))\n",
    "celcius = (ferenite_temp - 32) / 1.8000\n",
    "print(celcius)\n",
    "\n",
    "\n",
    "kelvin = ((ferenite_temp - 32) * 5 / 9) + 273.15\n",
    "print(kelvin)"
   ]
  },
  {
   "cell_type": "markdown",
   "metadata": {},
   "source": [
    "\n",
    "\n",
    "\n"
   ]
  },
  {
   "cell_type": "code",
   "execution_count": 12,
   "metadata": {},
   "outputs": [
    {
     "name": "stdout",
     "output_type": "stream",
     "text": [
      "<class 'str'>\n",
      "<class 'int'>\n",
      "<class 'list'>\n",
      "<class 'tuple'>\n",
      "<class 'dict'>\n",
      "<class 'set'>\n"
     ]
    },
    {
     "data": {
      "text/plain": [
       "'C:\\\\Users\\\\DELL-PC'"
      ]
     },
     "execution_count": 12,
     "metadata": {},
     "output_type": "execute_result"
    }
   ],
   "source": [
    "#question 6.Write a program to demonstrate all the available data types in Python. Hint: Use type() function.\n",
    "string1 = \"welcome to lets upgrade\"\n",
    "print(type(string1))\n",
    "\n",
    "integer1 = 12345\n",
    "print(type(integer1))\n",
    "\n",
    "list1 = [1,2,3,4,5,6]\n",
    "print(type(list1))\n",
    "\n",
    "tuple1 = (\"pune\",\"mumbai\",\"delhi\")\n",
    "print(type(tuple1))\n",
    "\n",
    "dict1 = {\"name\":\"sam\",\"age\":18 ,\"city\":\"pune\"}\n",
    "print(type(dict1))\n",
    "\n",
    "set1 = {1,2,3,4}\n",
    "print(type(set1))"
   ]
  },
  {
   "cell_type": "code",
   "execution_count": null,
   "metadata": {},
   "outputs": [],
   "source": [
    "'''question 7.Create a Markdown cell in jupyter and list the steps discussed in the session by Dr. Darshan\n",
    "Ingle sir to create Github profile and upload Githubs Assignment link.'''\n",
    "\n",
    "\n",
    "\n",
    "1.sign up to github.using your detail\n",
    "2.go to progfile. add new repositary by name \"LetsUpgrade AI/ML\" and keep it public\n",
    "3.drag the assignment file from jupyter notebook to repositary.\n",
    "4.copy the link of repositary and paste in google form provided"
   ]
  }
 ],
 "metadata": {
  "kernelspec": {
   "display_name": "Python 3",
   "language": "python",
   "name": "python3"
  },
  "language_info": {
   "codemirror_mode": {
    "name": "ipython",
    "version": 3
   },
   "file_extension": ".py",
   "mimetype": "text/x-python",
   "name": "python",
   "nbconvert_exporter": "python",
   "pygments_lexer": "ipython3",
   "version": "3.7.6"
  }
 },
 "nbformat": 4,
 "nbformat_minor": 4
}
