{
 "cells": [
  {
   "cell_type": "code",
   "execution_count": 1,
   "metadata": {},
   "outputs": [
    {
     "name": "stdout",
     "output_type": "stream",
     "text": [
      "3\n",
      "5\n",
      "7\n",
      "9\n",
      "11\n",
      "13\n",
      "15\n",
      "17\n",
      "19\n"
     ]
    }
   ],
   "source": [
    "'''Question 1 :\n",
    "Write a Python program to find the first 20 non-even prime natural numbers'''\n",
    "for i in range(1,21):\n",
    "    for j in range(2,i):\n",
    "        if i % j==0 :\n",
    "            break\n",
    "        else:\n",
    "            print(i)\n",
    "            break\n",
    "        "
   ]
  },
  {
   "cell_type": "code",
   "execution_count": 1,
   "metadata": {},
   "outputs": [
    {
     "name": "stdout",
     "output_type": "stream",
     "text": [
      "True\n",
      "False\n",
      "True\n",
      "Letsupgrade\n",
      "letsupgrade\n",
      "*********letsupgrade**********\n",
      "2\n",
      "5\n",
      "b'letsupgrade'\n",
      "lttsupgradt\n",
      "True\n",
      "letsupgrade\n",
      "('let', 's', 'upgrade')\n",
      "5\n",
      "True\n",
      "False\n"
     ]
    }
   ],
   "source": [
    "'''Question 2 :\n",
    "Write a Python program to implement 15 functions of string.'''\n",
    "\n",
    "str1 = 'letsupgrade'\n",
    "print(str1.isalpha())\n",
    "print(str1.isnumeric())\n",
    "print(str1.isalnum())\n",
    "print(str1.capitalize())\n",
    "print(str1.casefold())\n",
    "print(str1.center(30,\"*\"))\n",
    "print(str1.count(\"e\"))\n",
    "print(str1.find(\"p\"))\n",
    "print(str1.encode())\n",
    "print(str1.replace(\"e\",\"t\",2))\n",
    "print(str1.endswith(\"e\"))\n",
    "print(str1.expandtabs(2))\n",
    "print(str1.partition(\"s\"))\n",
    "print(str1.index(\"p\"))\n",
    "print(str1.isidentifier())\n",
    "print(str1.istitle())"
   ]
  },
  {
   "cell_type": "code",
   "execution_count": 58,
   "metadata": {},
   "outputs": [
    {
     "name": "stdout",
     "output_type": "stream",
     "text": [
      "It is an Palindrome\n",
      "It is an anagram\n"
     ]
    }
   ],
   "source": [
    "'''Question 3:\n",
    "Write a Python program to check if the given string is a Palindrome or Anagram or None of them.\n",
    "Display the message accordingly to the user.\n",
    "'''\n",
    "check = \"rotator\"\n",
    "if check == check[::-1]:\n",
    "    print(\"It is an Palindrome\")\n",
    "else:\n",
    "    print(\"It is not an Palindrome\")\n",
    "        \n",
    "        \n",
    "#or\n",
    "check1 = 'listen'\n",
    "check2 = 'silent'\n",
    "if sorted(check1) ==sorted(check2):\n",
    "    print(\"It is an anagram\")\n",
    "else:\n",
    "    print(\"It is not an anagram\")\n",
    "    "
   ]
  },
  {
   "cell_type": "code",
   "execution_count": 1,
   "metadata": {},
   "outputs": [
    {
     "name": "stdout",
     "output_type": "stream",
     "text": [
      "enter stringaltamash@gmail.com\n",
      "altamashgmailcom\n"
     ]
    }
   ],
   "source": [
    "'''Question 4:\n",
    "Write a Python's user defined function that removes all the additional characters from the string\n",
    "and converts it finally to lower case using built-in lower(). eg: If the string is \"Dr. Darshan Ingle\n",
    "@AI-ML Trainer\", then the output be \"drdarshaningleaimltrainer\".'''\n",
    "a = input(\"enter string\")\n",
    "b = \"\"\n",
    "for i in a:\n",
    "    if i.isalpha():\n",
    "        b = b + i\n",
    "print(b.lower())\n"
   ]
  }
 ],
 "metadata": {
  "kernelspec": {
   "display_name": "Python 3",
   "language": "python",
   "name": "python3"
  },
  "language_info": {
   "codemirror_mode": {
    "name": "ipython",
    "version": 3
   },
   "file_extension": ".py",
   "mimetype": "text/x-python",
   "name": "python",
   "nbconvert_exporter": "python",
   "pygments_lexer": "ipython3",
   "version": "3.7.6"
  }
 },
 "nbformat": 4,
 "nbformat_minor": 4
}
