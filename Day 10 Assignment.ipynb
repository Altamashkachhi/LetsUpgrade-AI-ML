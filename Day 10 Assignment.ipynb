{
 "cells": [
  {
   "cell_type": "markdown",
   "metadata": {},
   "source": [
    "'''Question for 10 hypothesis'''\n",
    "\n",
    "\n",
    "1.Average age for attrition of employees is 36.if we  considerering sample 0f 25 employee standard deviavtion 10 and alpha 0.05 ie 5 %.\n",
    "\n",
    "\n",
    "2.attrition is higher when distance of office is more than 10 km.\n",
    "\n",
    "\n",
    "3.Attrition is higher if salary is less than 65000.\n",
    "\n",
    "\n",
    "4.Attrition rate is 8 % for male.\n",
    "\n",
    "\n",
    "5.Percentage hike in salary is 30 %.to stop attrition.\n",
    "\n",
    "\n",
    "6.People having experience more than 10 years contribute more for attrition\n",
    "\n",
    "\n",
    "7.There is 10 % attrition in Research & Development department.\n",
    "\n",
    "\n",
    "8.Attrition is higher for employee whon  are more tha 4 years in same company.\n",
    "\n",
    "\n",
    "9.Employee attirtion is 9 % if promotion is n ot seen from 3 years.\n",
    "\n",
    "\n",
    "10.7 % employee lead to attrition if training is 6 months.\n",
    "\n"
   ]
  }
 ],
 "metadata": {
  "kernelspec": {
   "display_name": "Python 3",
   "language": "python",
   "name": "python3"
  },
  "language_info": {
   "codemirror_mode": {
    "name": "ipython",
    "version": 3
   },
   "file_extension": ".py",
   "mimetype": "text/x-python",
   "name": "python",
   "nbconvert_exporter": "python",
   "pygments_lexer": "ipython3",
   "version": "3.7.6"
  }
 },
 "nbformat": 4,
 "nbformat_minor": 4
}
