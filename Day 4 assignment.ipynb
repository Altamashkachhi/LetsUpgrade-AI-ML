{
 "cells": [
  {
   "cell_type": "code",
   "execution_count": 2,
   "metadata": {},
   "outputs": [
    {
     "name": "stdout",
     "output_type": "stream",
     "text": [
      "additio of a and b is  (6+8j)\n",
      "subtraction of a and b is  (2-2j)\n",
      "multiplication of a and b is  (-7+26j)\n",
      "division of a and b is  (0.793103448275862-0.48275862068965514j)\n",
      "floor didvision of complex number cannot be done\n",
      "modular operation of complex number cannot be done\n"
     ]
    }
   ],
   "source": [
    "'''#question 1,Research on whether addition, subtraction, multiplication, division, floor division and modulo\n",
    "operations be performed on complex numbers. Based on your study, implement a Python\n",
    "program to demonstrate these operations'''\n",
    "#addition on complex number\n",
    "a = 4 + 3j\n",
    "b = 2 + 5j\n",
    "add1 = a + b\n",
    "print(\"additio of a and b is \",add1)\n",
    "\n",
    "sub1 =a - b\n",
    "print(\"subtraction of a and b is \",sub1)\n",
    "\n",
    "mul1 = a * b\n",
    "print(\"multiplication of a and b is \",mul1)\n",
    "\n",
    "div1 = a / b\n",
    "print(\"division of a and b is \",div1)\n",
    "\n",
    "try:\n",
    "    flrdiv1 = a // b   # floor didvision of complex number cannot be done\n",
    "except:\n",
    "    print( \"floor didvision of complex number cannot be done\")\n",
    "\n",
    "try:\n",
    "    modopt1 = a % b\n",
    "except:\n",
    "    print(\"modular operation of complex number cannot be done\")\n"
   ]
  },
  {
   "cell_type": "markdown",
   "metadata": {},
   "source": [
    "'''Question 2 :\n",
    "Research on range() functions and its parameters. Create a markdown cell and write in your own\n",
    "words (no copy-paste from google please) what you understand about it. Implement a small\n",
    "program of your choice on the same.'''\n",
    "\n",
    "range function:\n",
    "    it take three parameter(start,stop,step).if you execute range function it will print one by one number that you have gave it to print in step wise manner with increment describe in the braket.\n",
    "\n",
    "\n"
   ]
  },
  {
   "cell_type": "code",
   "execution_count": 2,
   "metadata": {},
   "outputs": [
    {
     "name": "stdout",
     "output_type": "stream",
     "text": [
      "1\n",
      "3\n",
      "5\n",
      "7\n",
      "9\n"
     ]
    }
   ],
   "source": [
    "#example range function\n",
    "for i in range(1,11,2):\n",
    "    print(i)"
   ]
  },
  {
   "cell_type": "code",
   "execution_count": 3,
   "metadata": {},
   "outputs": [
    {
     "name": "stdout",
     "output_type": "stream",
     "text": [
      "enter the number - 785\n",
      "enter the number - 453\n",
      "multiplication of a and b is  355605\n"
     ]
    }
   ],
   "source": [
    "'''Question 3:\n",
    " Consider two numbers. Perform their subtraction and if the result of subtraction is greater than\n",
    "25, print their multiplication result else print their division result'''\n",
    "\n",
    "a = int(input(\"enter the number - \"))\n",
    "b = int(input(\"enter the number - \"))\n",
    "\n",
    "if a -b > 25:\n",
    "    multiplication_performd = a * b\n",
    "    print(\"multiplication of a and b is \",multiplication_performd)\n",
    "else:\n",
    "    division_performed = a / b\n",
    "    print(\"Division of a and b is \",division_performed)\n"
   ]
  },
  {
   "cell_type": "code",
   "execution_count": 5,
   "metadata": {},
   "outputs": [
    {
     "name": "stdout",
     "output_type": "stream",
     "text": [
      "2\n",
      "7742\n",
      "4354\n",
      "14\n",
      "142\n",
      "574\n"
     ]
    }
   ],
   "source": [
    "'''Question 4:\n",
    "Consider a list of 10 elements of integer values. If the number in the list is divisible by 2, print the\n",
    "result as \"square of that number minus 2\".'''\n",
    "\n",
    "list1 = [2,5,88,55,66,4,9,45,12,24]\n",
    "for i in list1:\n",
    "    if i % 2 == 0:\n",
    "        temp = (i ** 2) - 2\n",
    "        print(temp)"
   ]
  },
  {
   "cell_type": "code",
   "execution_count": 3,
   "metadata": {},
   "outputs": [
    {
     "name": "stdout",
     "output_type": "stream",
     "text": [
      "55\n",
      "88\n",
      "55\n",
      "567\n",
      "234\n",
      "876\n",
      "45\n"
     ]
    }
   ],
   "source": [
    "'''Question 5:\n",
    "Consider a list of 10 elements. Print all the elements in the list which are greater than 7 when that\n",
    "number is divided 2.'''\n",
    "\n",
    "list2 = [2,4,8,55,88,55,567,234,876,45]\n",
    "for j in list2:\n",
    "    if j / 2 > 7:\n",
    "        print(j)"
   ]
  },
  {
   "cell_type": "code",
   "execution_count": null,
   "metadata": {},
   "outputs": [],
   "source": []
  }
 ],
 "metadata": {
  "kernelspec": {
   "display_name": "Python 3",
   "language": "python",
   "name": "python3"
  },
  "language_info": {
   "codemirror_mode": {
    "name": "ipython",
    "version": 3
   },
   "file_extension": ".py",
   "mimetype": "text/x-python",
   "name": "python",
   "nbconvert_exporter": "python",
   "pygments_lexer": "ipython3",
   "version": "3.7.6"
  }
 },
 "nbformat": 4,
 "nbformat_minor": 4
}
